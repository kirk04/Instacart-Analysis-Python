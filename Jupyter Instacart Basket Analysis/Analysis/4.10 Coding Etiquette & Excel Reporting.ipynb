{
 "cells": [
  {
   "cell_type": "markdown",
   "id": "b1365254",
   "metadata": {},
   "source": [
    "# Step 1"
   ]
  },
  {
   "cell_type": "markdown",
   "id": "ae5f4ec1",
   "metadata": {},
   "source": [
    "Import the data set you exported in Exercise 4.9 into a new Jupyter notebook. This should be the merged version of your data that contains the new customers column.\n",
    "\n"
   ]
  },
  {
   "cell_type": "code",
   "execution_count": 1,
   "id": "14cc9951",
   "metadata": {},
   "outputs": [],
   "source": [
    "#import libraries\n",
    "import pandas as pd\n",
    "import numpy as np\n",
    "import os\n",
    "import matplotlib.pyplot as plt\n",
    "import seaborn as sns\n",
    "import scipy"
   ]
  },
  {
   "cell_type": "code",
   "execution_count": 2,
   "id": "aff21c02",
   "metadata": {},
   "outputs": [],
   "source": [
    "#create a path\n",
    "path = r'C:\\Users\\Maya\\OneDrive\\Documents\\CareerFoundry\\Achievement 4 - Python Fundamentals for Data Analysts\\Jupyter Instacart Basket Analysis'\n",
    "#import orders_products_all.pkl\n",
    "df = pd.read_pickle(os.path.join(path, 'Data', 'Prepared Data', 'orders_products_all.pkl'))"
   ]
  },
  {
   "cell_type": "code",
   "execution_count": null,
   "id": "493b2176",
   "metadata": {},
   "outputs": [],
   "source": [
    "#check head\n",
    "df.head()"
   ]
  },
  {
   "cell_type": "code",
   "execution_count": 3,
   "id": "e728c674",
   "metadata": {},
   "outputs": [
    {
     "data": {
      "text/plain": [
       "Index(['user_id', 'gender', 'state', 'age', 'date_joined', 'no_of_dependents',\n",
       "       'marital_status', 'income', 'product_id', 'product_name', 'aisle_id',\n",
       "       'department_id', 'prices', 'order_id', 'order_number',\n",
       "       'order_day_of_week', 'order_hour_of_day', 'days_since_prior_order',\n",
       "       'add_to_cart_order', 'reordered', '_merge', 'busiest_days',\n",
       "       'busiest_period_of_day', 'max_order', 'loyalty_flag',\n",
       "       'mean_prices_by_user', 'type_of_spender', 'dsp_order_median',\n",
       "       'order_frequency_flag', 'region', 'age_flag', 'income_flag',\n",
       "       'alcohol_flag', 'family_flag'],\n",
       "      dtype='object')"
      ]
     },
     "execution_count": 3,
     "metadata": {},
     "output_type": "execute_result"
    }
   ],
   "source": [
    "#check columns\n",
    "df.columns"
   ]
  },
  {
   "cell_type": "markdown",
   "id": "9663c2ab",
   "metadata": {},
   "source": [
    "# Step 2"
   ]
  },
  {
   "cell_type": "markdown",
   "id": "023fb653",
   "metadata": {},
   "source": [
    "Consider any security implications that might exist for this new data. You’ll need to address any PII data in the data before continuing your analysis."
   ]
  },
  {
   "cell_type": "code",
   "execution_count": null,
   "id": "aa8b2f18",
   "metadata": {},
   "outputs": [],
   "source": [
    "#drop first name and last name columns because they are potential privacy issues\n",
    "df = df.drop(columns = ['first_name', 'last_name'])"
   ]
  },
  {
   "cell_type": "code",
   "execution_count": null,
   "id": "62a5d418",
   "metadata": {},
   "outputs": [],
   "source": [
    "#check that columns were dropped\n",
    "df.columns"
   ]
  },
  {
   "cell_type": "markdown",
   "id": "ef4b6b56",
   "metadata": {},
   "source": [
    "# Step 3"
   ]
  },
  {
   "cell_type": "markdown",
   "id": "d2a7dfa1",
   "metadata": {},
   "source": [
    "The Instacart officers are interested in comparing customer behavior in different geographic areas. Create a regional segmentation of the data. You’ll need to create a “Region” column based on the “State” column from your customers data set.\n",
    "    Use the region information in this Wikipedia article to create your column (you only need to create regions, not divisions).\n",
    "    Determine whether there’s a difference in spending habits between the different U.S. regions. (Hint: You can do this by crossing the variable you just created with the spending flag.)\n"
   ]
  },
  {
   "cell_type": "code",
   "execution_count": null,
   "id": "5df0804b",
   "metadata": {},
   "outputs": [],
   "source": [
    "#create a data dictionary of regions\n",
    "region_dict = {\n",
    "    'Maine' : 'Northeast'\n",
    "    'New Hampshire' : 'Northeast'\n",
    "    'Vermont' : 'Northeast'\n",
    "    'Massachusetts' : 'Northeast'\n",
    "    'Rhode Island' : 'Northeast'\n",
    "    'Connecticut' : 'Northeast'\n",
    "    'New York' : 'Northeast'\n",
    "    'Pennsylvania' : 'Northeast'\n",
    "    'New Jersey' : 'Northeast'\n",
    "    'Wisconsin' : 'Midwest'\n",
    "    'Michigan' : 'Midwest'\n",
    "    'Illinois' : 'Midwest'\n",
    "    'Indiana' : 'Midwest'\n",
    "    'Ohio' : 'Midwest'\n",
    "    'North Dakota' : 'Midwest'\n",
    "    'South Dakota' : 'Midwest'\n",
    "    'Nebraska' : 'Midwest'\n",
    "    'Kansas' : 'Midwest'\n",
    "    'Minnesota' : 'Midwest'\n",
    "    'Iowa' : 'Midwest'\n",
    "    'Missouri' : 'Midwest'\n",
    "    'Delaware' : 'South'\n",
    "    'Maryland' : 'South'\n",
    "    'District of Columbia' : 'South'\n",
    "    'Virginia' : 'South'\n",
    "    'West Virginia' : 'South'\n",
    "    'North Carolina' : 'South'\n",
    "    'South Carolina' : 'South'\n",
    "    'Georgia' : 'South'\n",
    "    'Florida' : 'South'\n",
    "    'Kentucky' : 'South'\n",
    "    'Tennessee' : 'South'\n",
    "    'Mississippi' : 'South'\n",
    "    'Alabama' : 'South'\n",
    "    'Oklahoma' : 'South'\n",
    "    'Texas' : 'South'\n",
    "    'Arkansas' : 'South'\n",
    "    'Louisiana' : 'South'\n",
    "    'Arizona' : 'West'\n",
    "    'Colorado' : 'West'\n",
    "    'Idaho' : 'West'\n",
    "    'Montana' : 'West'\n",
    "    'Nevada' : 'West'\n",
    "    'New Mexico' : 'West'\n",
    "    'Utah' : 'West'\n",
    "    'Wyoming' : 'West'\n",
    "    'Alaska' : 'West'\n",
    "    'California' : 'West'\n",
    "    'Hawaii' : 'West'\n",
    "    'Oregon' : 'West'\n",
    "    'Washington' : 'West'\n",
    "}\n",
    "\n",
    "def get_region(area):\n",
    "    return region_dict[area]\n",
    "\n",
    "df['region'] = df['state'].apply(get_region)"
   ]
  },
  {
   "cell_type": "code",
   "execution_count": null,
   "id": "8c03ea7e",
   "metadata": {},
   "outputs": [],
   "source": [
    "#check value counts\n",
    "df['region'].value_counts(dropna = False)"
   ]
  },
  {
   "cell_type": "code",
   "execution_count": null,
   "id": "98b2bd35",
   "metadata": {},
   "outputs": [],
   "source": [
    "#create crosstab to compare data\n",
    "crosstab = pd.crosstab(df['region'], df['type_of_spender'], dropna = False)"
   ]
  },
  {
   "cell_type": "code",
   "execution_count": null,
   "id": "f2c61c6e",
   "metadata": {},
   "outputs": [],
   "source": [
    "crosstab"
   ]
  },
  {
   "cell_type": "markdown",
   "id": "7866bc79",
   "metadata": {},
   "source": [
    "# Step 4"
   ]
  },
  {
   "cell_type": "markdown",
   "id": "0fca24e5",
   "metadata": {},
   "source": [
    "The Instacart CFO isn’t interested in customers who don’t generate much revenue for the app. Create an exclusion flag for low-activity customers (customers with less than 5 orders) and exclude them from the data. Make sure you export this sample."
   ]
  },
  {
   "cell_type": "code",
   "execution_count": null,
   "id": "fdcac3c6",
   "metadata": {},
   "outputs": [],
   "source": [
    "#create flags for activity\n",
    "df.loc[df['max_order'] >= 5, 'activity_flag'] = 'High activity'\n",
    "df.loc[df['max_order'] < 5, 'activity_flag'] = 'Low activity'"
   ]
  },
  {
   "cell_type": "code",
   "execution_count": null,
   "id": "eefb1365",
   "metadata": {},
   "outputs": [],
   "source": [
    "#check value counts\n",
    "df['activity_flag'].value_counts(dropna = False)"
   ]
  },
  {
   "cell_type": "code",
   "execution_count": null,
   "id": "4ae1bc57",
   "metadata": {},
   "outputs": [],
   "source": [
    "#check new column\n",
    "df.head()"
   ]
  },
  {
   "cell_type": "code",
   "execution_count": null,
   "id": "173efee0",
   "metadata": {},
   "outputs": [],
   "source": [
    "#create a subset of high activity customers\n",
    "df_high_activity = df.loc[df['activity_flag'] == 'High Activity']"
   ]
  },
  {
   "cell_type": "code",
   "execution_count": null,
   "id": "eef2d5a0",
   "metadata": {},
   "outputs": [],
   "source": [
    "#export high activity subset\n",
    "df_high_activity.to_pickle(os.path.join(path,'Data','Prepared Data','high_activity_subset.pkl'))"
   ]
  },
  {
   "cell_type": "markdown",
   "id": "a29e42f8",
   "metadata": {},
   "source": [
    "# Step 5"
   ]
  },
  {
   "cell_type": "markdown",
   "id": "d78f341c",
   "metadata": {},
   "source": [
    "The marketing and business strategy units at Instacart want to create more-relevant marketing strategies for different products and are, thus, curious about customer profiling in their database. Create a profiling variable based on age, income, certain goods in the “department_id” column, and number of dependents. You might also use the “orders_day_of_the_week” and “order_hour_of_day” columns if you can think of a way they would impact customer profiles. (Hint: As an example, try thinking of what characteristics would lead you to the profile “Single adult” or “Young parent.”)\n"
   ]
  },
  {
   "cell_type": "markdown",
   "id": "7bc657c8",
   "metadata": {},
   "source": [
    "Profiles:\n",
    "\n",
    "age_flag (Young adult: age <= 30, Adult: age 31-64, Senior: age >= 65)\n",
    "\n",
    "income_flag (Low income: income < 40k, Mid income: income 40k-100k, High income: income>100k)\n",
    "\n",
    "alcohol_flag (Alcohol buyer: department_id == 5, Non-alcohol buyer: department_id != 5)\n",
    "\n",
    "family_flag (Has kids: no_of_dependents >= 1 , No kids: no_of_dependents == 0)"
   ]
  },
  {
   "cell_type": "code",
   "execution_count": null,
   "id": "ad273bb8",
   "metadata": {},
   "outputs": [],
   "source": [
    "# create flags for age\n",
    "df.loc[df['age'] <= 30, 'age_flag'] = 'Young Adult'\n",
    "df.loc[(df['age'] > 30) & (df['age'] < 65), 'age_flag'] = 'Adult'\n",
    "df.loc[df['age'] >= 65, 'age_flag'] = 'Senior'"
   ]
  },
  {
   "cell_type": "code",
   "execution_count": null,
   "id": "8a77625f",
   "metadata": {},
   "outputs": [],
   "source": [
    "#check value counts\n",
    "df['age_flag'].value_counts()"
   ]
  },
  {
   "cell_type": "code",
   "execution_count": null,
   "id": "e9818fef",
   "metadata": {},
   "outputs": [],
   "source": [
    "# create flags for income\n",
    "df.loc[df['income'] < 40000, 'income_flag'] = 'Low Income'\n",
    "df.loc[(df['income'] >= 40000) & (df['income'] <= 100000), 'income_flag'] = 'Mid Income'\n",
    "df.loc[df['income'] > 100000, 'income_flag'] = 'High income'"
   ]
  },
  {
   "cell_type": "code",
   "execution_count": null,
   "id": "403ca736",
   "metadata": {},
   "outputs": [],
   "source": [
    "#check value counts\n",
    "df['income_flag'].value_counts()"
   ]
  },
  {
   "cell_type": "code",
   "execution_count": null,
   "id": "c94b343d",
   "metadata": {},
   "outputs": [],
   "source": [
    "result1 = []\n",
    "\n",
    "for value in df[\"department_id\"]:\n",
    "  if value == 5:\n",
    "    result1.append(\"Alcohol buyer\")\n",
    "  else:\n",
    "    result1.append(\"Non-alcohol buyer\")"
   ]
  },
  {
   "cell_type": "code",
   "execution_count": null,
   "id": "077e8694",
   "metadata": {},
   "outputs": [],
   "source": [
    "#create new column\n",
    "df['alcohol_flag'] = result1"
   ]
  },
  {
   "cell_type": "code",
   "execution_count": null,
   "id": "1a79450a",
   "metadata": {},
   "outputs": [],
   "source": [
    "#check value counts\n",
    "df['alcohol_flag'].value_counts()"
   ]
  },
  {
   "cell_type": "code",
   "execution_count": null,
   "id": "972a65c2",
   "metadata": {},
   "outputs": [],
   "source": [
    "# create flags for family\n",
    "df.loc[df['no_of_dependents'] > 0, 'family_flag'] = 'Has kids'\n",
    "df.loc[df['no_of_dependents'] == 0, 'family_flag'] = 'No kids'"
   ]
  },
  {
   "cell_type": "code",
   "execution_count": null,
   "id": "773462fc",
   "metadata": {},
   "outputs": [],
   "source": [
    "#check value counts\n",
    "df['family_flag'].value_counts()"
   ]
  },
  {
   "cell_type": "markdown",
   "id": "fbd24995",
   "metadata": {},
   "source": [
    "# Step 6"
   ]
  },
  {
   "cell_type": "markdown",
   "id": "5c65a636",
   "metadata": {},
   "source": [
    "Create an appropriate visualization to show the distribution of profiles."
   ]
  },
  {
   "cell_type": "code",
   "execution_count": null,
   "id": "3bfb0a82",
   "metadata": {},
   "outputs": [],
   "source": [
    "age_bar = df['age_flag'].value_counts().plot.bar(color = ['maroon', 'salmon', 'pink'])"
   ]
  },
  {
   "cell_type": "code",
   "execution_count": null,
   "id": "84d791d2",
   "metadata": {},
   "outputs": [],
   "source": [
    "income_bar = df['income_flag'].value_counts().plot.bar(color = ['indigo', 'purple', 'blue'])"
   ]
  },
  {
   "cell_type": "code",
   "execution_count": null,
   "id": "789eb03a",
   "metadata": {},
   "outputs": [],
   "source": [
    "alcohol_pie = df['alcohol_flag'].value_counts().plot.pie(label='', labels=['non-alcohol buyer', 'alcohol buyer'])"
   ]
  },
  {
   "cell_type": "code",
   "execution_count": null,
   "id": "e02de017",
   "metadata": {},
   "outputs": [],
   "source": [
    "family_pie = df['family_flag'].value_counts().plot.pie(label='', labels=['has kids', 'no kids'])"
   ]
  },
  {
   "cell_type": "code",
   "execution_count": null,
   "id": "b6c100e2",
   "metadata": {},
   "outputs": [],
   "source": [
    "#export age bar\n",
    "age_bar.figure.savefig(os.path.join(path, 'Analysis','Visualizations', 'age_bar.png'))"
   ]
  },
  {
   "cell_type": "code",
   "execution_count": null,
   "id": "30af3c0c",
   "metadata": {},
   "outputs": [],
   "source": [
    "#export income bar\n",
    "income_bar.figure.savefig(os.path.join(path, 'Analysis','Visualizations', 'income_bar.png'))"
   ]
  },
  {
   "cell_type": "code",
   "execution_count": null,
   "id": "961b2a36",
   "metadata": {},
   "outputs": [],
   "source": [
    "#export alcohol pie\n",
    "alcohol_pie.figure.savefig(os.path.join(path, 'Analysis','Visualizations', 'alcohol_pie.png'))"
   ]
  },
  {
   "cell_type": "code",
   "execution_count": null,
   "id": "243cc864",
   "metadata": {},
   "outputs": [],
   "source": [
    "#export family pie\n",
    "family_pie.figure.savefig(os.path.join(path, 'Analysis','Visualizations', 'family_pie.png'))"
   ]
  },
  {
   "cell_type": "markdown",
   "id": "dd28be86",
   "metadata": {},
   "source": [
    "# Step 7"
   ]
  },
  {
   "cell_type": "markdown",
   "id": "4a4836ec",
   "metadata": {},
   "source": [
    "Aggregate the max, mean, and min variables on a customer-profile level for usage frequency and expenditure."
   ]
  },
  {
   "cell_type": "code",
   "execution_count": null,
   "id": "dfa3920e",
   "metadata": {},
   "outputs": [],
   "source": [
    "#age flag and usage frequency \n",
    "\n",
    "df.groupby('age_flag').agg({'days_since_prior_order': ['mean', 'min', 'max']})"
   ]
  },
  {
   "cell_type": "code",
   "execution_count": null,
   "id": "73bba52b",
   "metadata": {},
   "outputs": [],
   "source": [
    "#age flag and expenditure\n",
    "\n",
    "df.groupby('age_flag').agg({'prices': ['mean', 'min', 'max']})"
   ]
  },
  {
   "cell_type": "code",
   "execution_count": null,
   "id": "8c8b38ee",
   "metadata": {},
   "outputs": [],
   "source": [
    "#income flag and usage frequency \n",
    "\n",
    "df.groupby('income_flag').agg({'days_since_prior_order': ['mean', 'min', 'max']})"
   ]
  },
  {
   "cell_type": "code",
   "execution_count": null,
   "id": "d8f99712",
   "metadata": {},
   "outputs": [],
   "source": [
    "#income flag and expenditure\n",
    "\n",
    "df.groupby('income_flag').agg({'prices': ['mean', 'min', 'max']})"
   ]
  },
  {
   "cell_type": "code",
   "execution_count": null,
   "id": "bcfd8aee",
   "metadata": {},
   "outputs": [],
   "source": [
    "#alcohol flag and usage frequency \n",
    "\n",
    "df.groupby('alcohol_flag').agg({'days_since_prior_order': ['mean', 'min', 'max']})"
   ]
  },
  {
   "cell_type": "code",
   "execution_count": null,
   "id": "61309f07",
   "metadata": {},
   "outputs": [],
   "source": [
    "#alcohol flag and expenditure\n",
    "\n",
    "df.groupby('alcohol_flag').agg({'prices': ['mean', 'min', 'max']})"
   ]
  },
  {
   "cell_type": "code",
   "execution_count": null,
   "id": "5708bac0",
   "metadata": {},
   "outputs": [],
   "source": [
    "#family flag and usage frequency \n",
    "\n",
    "df.groupby('family_flag').agg({'days_since_prior_order': ['mean', 'min', 'max']})"
   ]
  },
  {
   "cell_type": "code",
   "execution_count": null,
   "id": "8e0064b2",
   "metadata": {},
   "outputs": [],
   "source": [
    "#family flag and expenditure\n",
    "\n",
    "df.groupby('family_flag').agg({'prices': ['mean', 'min', 'max']})"
   ]
  },
  {
   "cell_type": "markdown",
   "id": "383565d4",
   "metadata": {},
   "source": [
    "# Step 8"
   ]
  },
  {
   "cell_type": "markdown",
   "id": "0aacfa8d",
   "metadata": {},
   "source": [
    "Compare your customer profiles with regions and departments. Can you identify a link between them? Customers may demonstrate different behaviors across regions, which could make this information important."
   ]
  },
  {
   "cell_type": "code",
   "execution_count": null,
   "id": "d9994484",
   "metadata": {},
   "outputs": [],
   "source": [
    "#create crosstab for age flag and region\n",
    "\n",
    "age_flag_crosstab = pd.crosstab(df['age_flag'], df['region'], dropna = False)"
   ]
  },
  {
   "cell_type": "code",
   "execution_count": null,
   "id": "f3cd489f",
   "metadata": {},
   "outputs": [],
   "source": [
    "age_flag_crosstab"
   ]
  },
  {
   "cell_type": "code",
   "execution_count": null,
   "id": "406b0c04",
   "metadata": {},
   "outputs": [],
   "source": [
    "#create crosstab for income flag and region\n",
    "\n",
    "income_flag_crosstab = pd.crosstab(df['income_flag'], df['region'], dropna = False)"
   ]
  },
  {
   "cell_type": "code",
   "execution_count": null,
   "id": "5f8b925d",
   "metadata": {},
   "outputs": [],
   "source": [
    "income_flag_crosstab"
   ]
  },
  {
   "cell_type": "code",
   "execution_count": null,
   "id": "f3a07b32",
   "metadata": {},
   "outputs": [],
   "source": [
    "#create crosstab for alcohol flag and region\n",
    "\n",
    "alcohol_flag_crosstab = pd.crosstab(df['alcohol_flag'], df['region'], dropna = False)"
   ]
  },
  {
   "cell_type": "code",
   "execution_count": null,
   "id": "dc49eb92",
   "metadata": {},
   "outputs": [],
   "source": [
    "alcohol_flag_crosstab"
   ]
  },
  {
   "cell_type": "code",
   "execution_count": null,
   "id": "2a25885b",
   "metadata": {},
   "outputs": [],
   "source": [
    "#create crosstab for family flag and region\n",
    "\n",
    "family_flag_crosstab = pd.crosstab(df['family_flag'], df['region'], dropna = False)"
   ]
  },
  {
   "cell_type": "code",
   "execution_count": null,
   "id": "ed593eec",
   "metadata": {},
   "outputs": [],
   "source": [
    "family_flag_crosstab"
   ]
  },
  {
   "cell_type": "markdown",
   "id": "f64afe0c",
   "metadata": {},
   "source": [
    "# Step 9"
   ]
  },
  {
   "cell_type": "markdown",
   "id": "6fd384a7",
   "metadata": {},
   "source": [
    "Produce suitable charts to illustrate your results and export them in your project folder."
   ]
  },
  {
   "cell_type": "code",
   "execution_count": null,
   "id": "a8bf1a63",
   "metadata": {},
   "outputs": [],
   "source": [
    "#create crosstab for age flag by region\n",
    "age_region_bar = pd.crosstab(df['region'], columns = df['age_flag'])\n",
    "\n",
    "#create cross tab to display labels\n",
    "age_region_bar_labels = pd.crosstab(df['region'], columns = df['age_flag'])"
   ]
  },
  {
   "cell_type": "code",
   "execution_count": null,
   "id": "f55ab17f",
   "metadata": {},
   "outputs": [],
   "source": [
    "#create bar chart for age flag by region\n",
    "\n",
    "age_region_bar = age_region_bar.plot(kind ='bar', stacked = False, color = ['maroon', 'salmon', 'pink'], figsize = (12,10))\n",
    "plt.title('Age by Region', fontsize = 16)\n",
    "plt.legend(loc =\"upper center\", ncol = 3)\n",
    "plt.xlabel(\"Region\")\n",
    "plt.show()"
   ]
  },
  {
   "cell_type": "code",
   "execution_count": 4,
   "id": "6d9821f9",
   "metadata": {},
   "outputs": [],
   "source": [
    "#create crosstab for income flag by region\n",
    "income_region_bar = pd.crosstab(df['region'], columns = df['income_flag'])\n",
    "\n",
    "#create cross tab to display labels\n",
    "income_region_bar_labels = pd.crosstab(df['region'], columns = df['income_flag'])"
   ]
  },
  {
   "cell_type": "code",
   "execution_count": 5,
   "id": "4bd9fcda",
   "metadata": {},
   "outputs": [
    {
     "data": {
      "image/png": "[encoded data removed]",
      "text/plain": [
       "<Figure size 864x720 with 1 Axes>"
      ]
     },
     "metadata": {
      "needs_background": "light"
     },
     "output_type": "display_data"
    }
   ],
   "source": [
    "#create bar chart for income flag by region\n",
    "income_region_bar = income_region_bar.plot(kind ='bar', stacked = False, color = ['indigo', 'purple', 'blue'], figsize = (12,10))\n",
    "plt.title('Income by Region', fontsize = 16)\n",
    "plt.legend(loc =\"upper center\", ncol = 3)\n",
    "plt.xlabel(\"Region\")\n",
    "plt.show()"
   ]
  },
  {
   "cell_type": "code",
   "execution_count": null,
   "id": "b73750cb",
   "metadata": {},
   "outputs": [],
   "source": [
    "#create crosstab for alcohol flag by region\n",
    "alcohol_region_bar = pd.crosstab(df['region'], columns = df['alcohol_flag'])\n",
    "\n",
    "#create cross tab to display labels\n",
    "alcohol_region_bar_labels = pd.crosstab(df['region'], columns = df['alcohol_flag'])"
   ]
  },
  {
   "cell_type": "code",
   "execution_count": null,
   "id": "29e82205",
   "metadata": {},
   "outputs": [],
   "source": [
    "#create bar chart for alcohol flag by region\n",
    "\n",
    "alcohol_region_bar = alcohol_region_bar.plot(kind ='bar', stacked = False, color = ['green','lightgreen'], figsize = (12,10))\n",
    "plt.title('Alcohol Buyers by Region', fontsize = 16)\n",
    "plt.legend(loc =\"upper center\", ncol = 2)\n",
    "plt.xlabel(\"Region\")\n",
    "plt.show()"
   ]
  },
  {
   "cell_type": "code",
   "execution_count": null,
   "id": "be7a0c04",
   "metadata": {},
   "outputs": [],
   "source": [
    "#create crosstab for family flag by region\n",
    "family_region_bar = pd.crosstab(df['region'], columns = df['family_flag'])\n",
    "\n",
    "#create cross tab to display labels\n",
    "family_region_bar_labels = pd.crosstab(df['region'], columns = df['family_flag'])"
   ]
  },
  {
   "cell_type": "code",
   "execution_count": null,
   "id": "e4820119",
   "metadata": {},
   "outputs": [],
   "source": [
    "#create bar chart for family flag by region\n",
    "\n",
    "family_region_bar = family_region_bar.plot(kind ='bar', stacked = False, color = ['turquoise','blue'], figsize = (12,10))\n",
    "plt.title('Families vs Nonfamilies by Region', fontsize = 16)\n",
    "plt.legend(loc =\"upper center\", ncol = 2)\n",
    "plt.xlabel(\"Region\")\n",
    "plt.show()"
   ]
  },
  {
   "cell_type": "code",
   "execution_count": null,
   "id": "7ca267bf",
   "metadata": {},
   "outputs": [],
   "source": [
    "#export age by region bar chart\n",
    "\n",
    "age_region_bar.figure.savefig(os.path.join(path, 'Analysis','Visualizations', 'age_region_bar.png'))"
   ]
  },
  {
   "cell_type": "code",
   "execution_count": 6,
   "id": "3e9e0473",
   "metadata": {},
   "outputs": [],
   "source": [
    "#export income by region bar chart\n",
    "income_region_bar.figure.savefig(os.path.join(path, 'Analysis','Visualizations', 'income_region_bar.png'))"
   ]
  },
  {
   "cell_type": "code",
   "execution_count": null,
   "id": "b8dd0d6d",
   "metadata": {},
   "outputs": [],
   "source": [
    "#export alcohol by region bar chart\n",
    "\n",
    "alcohol_region_bar.figure.savefig(os.path.join(path, 'Analysis','Visualizations', 'alcohol_region_bar.png'))"
   ]
  },
  {
   "cell_type": "code",
   "execution_count": null,
   "id": "dd751d57",
   "metadata": {},
   "outputs": [],
   "source": [
    "#export family by region bar chart\n",
    "\n",
    "family_region_bar.figure.savefig(os.path.join(path, 'Analysis','Visualizations', 'family_region_bar.png'))"
   ]
  },
  {
   "cell_type": "markdown",
   "id": "64449714",
   "metadata": {},
   "source": [
    "# Step 10"
   ]
  },
  {
   "cell_type": "markdown",
   "id": "2db9dfb6",
   "metadata": {},
   "source": [
    "Tidy up your script, export your final data set, and save your notebook."
   ]
  },
  {
   "cell_type": "code",
   "execution_count": null,
   "id": "0f4a0c97",
   "metadata": {},
   "outputs": [],
   "source": [
    "df.columns"
   ]
  },
  {
   "cell_type": "code",
   "execution_count": null,
   "id": "e4a72a1a",
   "metadata": {},
   "outputs": [],
   "source": [
    "df.to_pickle(os.path.join(path, 'Data','Prepared Data', 'final_dataset.pkl'))"
   ]
  },
  {
   "cell_type": "code",
   "execution_count": null,
   "id": "77fed471",
   "metadata": {},
   "outputs": [],
   "source": []
  }
 ],
 "metadata": {
  "kernelspec": {
   "display_name": "Python 3 (ipykernel)",
   "language": "python",
   "name": "python3"
  },
  "language_info": {
   "codemirror_mode": {
    "name": "ipython",
    "version": 3
   },
   "file_extension": ".py",
   "mimetype": "text/x-python",
   "name": "python",
   "nbconvert_exporter": "python",
   "pygments_lexer": "ipython3",
   "version": "3.9.12"
  }
 },
 "nbformat": 4,
 "nbformat_minor": 5
}
